{
 "cells": [
  {
   "cell_type": "markdown",
   "metadata": {},
   "source": [
    "## Introduction\n",
    "\n",
    "This assessment aims to make you familiar with word embeddings and fine-tuning them for a specific downstream task. This assignment will be in two parts: **Part1: Fasttext** and **Part2: POS Tagging**. The due date of the exercise is **16th of April, 11.59pm**. You are going to submit your work via Blackboard.\n"
   ]
  },
  {
   "cell_type": "markdown",
   "metadata": {
    "tags": [
     "pdf-ignore"
    ]
   },
   "source": [
    "## Install PyTorch (If you are working locally)\n",
    "\n",
    "1. Have the latest version of Anaconda installed on your machine.\n",
    "2. Create a new conda environment starting from Python 3.7. In this setup example, we'll call it `torch_env`.\n",
    "3. Run the command: `conda activate torch_env`\n",
    "4. Run the command: `pip3 install torch==1.13.1`\n",
    "\n",
    "## or just work on this notebook on google colab.\n",
    "https://colab.research.google.com/\n",
    "\n",
    "For this assignment, you don't need a GPU to train the models. However, if you want to use a GPU, you can follow the steps below to create a GPU backed environment. https://www.youtube.com/watch?v=TI9mTiTKoUc&ab_channel=SinaTofighi This video shows how you can open a Colab, request and allocate a GPU for your work. You can follow the steps to create your GPU backed environment."
   ]
  },
  {
   "cell_type": "markdown",
   "metadata": {},
   "source": [
    "# COMP542/442 - Assignment 1 - Part 1\n",
    "\n",
    "The assignment consists of the following parts:\n",
    "* **Part I**: Preparation\n",
    "  * Installing the required packages\n",
    "  * Downloading data\n",
    "  * Preprocessing\n",
    "* **Part II**: Model Training\n",
    "  * Training word embeddings on the Turkish dataset\n",
    "  * Training with Contuinuous Bag of Words approach (Optional)\n",
    "  * Trianing with Skipgram approach\n",
    "* **Part III**: Observations\n",
    "  * Make observations for get_nearest_neighbors and get_analogies method\n",
    "  * Compare CBOW with Skipgram (Optional)"
   ]
  },
  {
   "cell_type": "markdown",
   "metadata": {},
   "source": [
    "##### Inline question 1: Describe n-gram, BPE vs wordpiece/unigram tokenization methods with one or two sentences. Please compare their advantages and disadvantages over each other.\n",
    "\n",
    "<font color='red'>Your answer: n-gram is a language modeling technique that involves breaking up text into contiguous sequences of n words (or characters) to better capture the dependencies between adjacent words. BPE (Byte Pair Encoding) and WordPiece/Unigram are popular tokenization methods that use subword units to represent words. They are similar to eachother with slight differences such as BPE replaces the most frequent byte pair with a new byte which makes this algorithm a frequency-based model while wordpiece leverages likelihood instead of frequency to merge the best pair. BPE is known for its simplicity and efficient decoding and ability to handle out-of-vocabulary (OOV) words well, while WordPiece/Unigram has the advantage of being more accurate in terms of tokenization and producing more human-interpretable subword units. However, wordPiece/unigram can suffer from OOV words and require additional preprocessing steps since we calculate the likelihood for all symbols (K) which makes the complexity very high, O(K^2), while in BPE similar words can have different subwords, does not have probabilities or scores for possible segmentations, deterministic decoding, and has single output. </font>\n"
   ]
  },
  {
   "cell_type": "markdown",
   "metadata": {},
   "source": [
    "## Installing fastText\n",
    "\n",
    "You may follow the instruction from the documentation:\n",
    "* https://fasttext.cc/docs/en/support.html\n",
    "* https://fasttext.cc/docs/en/unsupervised-tutorial.html"
   ]
  },
  {
   "cell_type": "code",
   "execution_count": 1,
   "metadata": {},
   "outputs": [
    {
     "name": "stdout",
     "output_type": "stream",
     "text": [
      "C:\\Users\\BB\\Desktop\\Assigment_1\\fastText\n"
     ]
    },
    {
     "name": "stderr",
     "output_type": "stream",
     "text": [
      "Cloning into 'fastText'...\n"
     ]
    },
    {
     "name": "stdout",
     "output_type": "stream",
     "text": [
      "Processing c:\\users\\bb\\desktop\\assigment_1\\fasttext\n",
      "  Preparing metadata (setup.py): started\n",
      "  Preparing metadata (setup.py): finished with status 'done'\n",
      "Collecting pybind11>=2.2\n",
      "  Using cached pybind11-2.10.4-py3-none-any.whl (222 kB)\n",
      "Requirement already satisfied: setuptools>=0.7.0 in c:\\users\\bb\\anaconda3\\lib\\site-packages (from fasttext==0.9.2) (67.6.1)\n",
      "Requirement already satisfied: numpy in c:\\users\\bb\\anaconda3\\lib\\site-packages (from fasttext==0.9.2) (1.23.5)\n",
      "Building wheels for collected packages: fasttext\n",
      "  Building wheel for fasttext (setup.py): started\n",
      "  Building wheel for fasttext (setup.py): finished with status 'done'\n",
      "  Created wheel for fasttext: filename=fasttext-0.9.2-cp38-cp38-win_amd64.whl size=228964 sha256=95ec021868553518fcfd95cdfe61a16f56973a5369b13c939089bfb99f395ec5\n",
      "  Stored in directory: C:\\Users\\BB\\AppData\\Local\\Temp\\pip-ephem-wheel-cache-jkpqmfdj\\wheels\\02\\75\\1e\\2bb97eebf542542fd1c3bbfd731eb725d76e085a4fe5ba3061\n",
      "Successfully built fasttext\n",
      "Installing collected packages: pybind11, fasttext\n",
      "Successfully installed fasttext-0.9.2 pybind11-2.10.4\n"
     ]
    },
    {
     "name": "stderr",
     "output_type": "stream",
     "text": [
      "WARNING: Ignoring invalid distribution -umpy (c:\\users\\bb\\anaconda3\\lib\\site-packages)\n",
      "WARNING: Ignoring invalid distribution -umpy (c:\\users\\bb\\anaconda3\\lib\\site-packages)\n",
      "WARNING: Ignoring invalid distribution -umpy (c:\\users\\bb\\anaconda3\\lib\\site-packages)\n",
      "WARNING: Ignoring invalid distribution -umpy (c:\\users\\bb\\anaconda3\\lib\\site-packages)\n",
      "WARNING: Ignoring invalid distribution -umpy (c:\\users\\bb\\anaconda3\\lib\\site-packages)\n",
      "WARNING: Ignoring invalid distribution -umpy (c:\\users\\bb\\anaconda3\\lib\\site-packages)\n",
      "WARNING: Ignoring invalid distribution -umpy (c:\\users\\bb\\anaconda3\\lib\\site-packages)\n",
      "WARNING: Ignoring invalid distribution -umpy (c:\\users\\bb\\anaconda3\\lib\\site-packages)\n"
     ]
    },
    {
     "name": "stdout",
     "output_type": "stream",
     "text": [
      "running install\n",
      "running bdist_egg\n",
      "running egg_info\n",
      "writing python/fasttext_module\\fasttext.egg-info\\PKG-INFO\n",
      "writing dependency_links to python/fasttext_module\\fasttext.egg-info\\dependency_links.txt\n",
      "writing requirements to python/fasttext_module\\fasttext.egg-info\\requires.txt\n",
      "writing top-level names to python/fasttext_module\\fasttext.egg-info\\top_level.txt\n",
      "reading manifest template 'MANIFEST.in'\n",
      "adding license file 'LICENSE'\n",
      "writing manifest file 'python/fasttext_module\\fasttext.egg-info\\SOURCES.txt'\n",
      "installing library code to build\\bdist.win-amd64\\egg\n",
      "running install_lib\n",
      "running build_py\n",
      "running build_ext\n",
      "creating build\\bdist.win-amd64\\egg\n",
      "creating build\\bdist.win-amd64\\egg\\fasttext\n",
      "copying build\\lib.win-amd64-cpython-38\\fasttext\\FastText.py -> build\\bdist.win-amd64\\egg\\fasttext\n",
      "creating build\\bdist.win-amd64\\egg\\fasttext\\tests\n",
      "copying build\\lib.win-amd64-cpython-38\\fasttext\\tests\\test_configurations.py -> build\\bdist.win-amd64\\egg\\fasttext\\tests\n",
      "copying build\\lib.win-amd64-cpython-38\\fasttext\\tests\\test_script.py -> build\\bdist.win-amd64\\egg\\fasttext\\tests\n",
      "copying build\\lib.win-amd64-cpython-38\\fasttext\\tests\\__init__.py -> build\\bdist.win-amd64\\egg\\fasttext\\tests\n",
      "creating build\\bdist.win-amd64\\egg\\fasttext\\util\n",
      "copying build\\lib.win-amd64-cpython-38\\fasttext\\util\\util.py -> build\\bdist.win-amd64\\egg\\fasttext\\util\n",
      "copying build\\lib.win-amd64-cpython-38\\fasttext\\util\\__init__.py -> build\\bdist.win-amd64\\egg\\fasttext\\util\n",
      "copying build\\lib.win-amd64-cpython-38\\fasttext\\__init__.py -> build\\bdist.win-amd64\\egg\\fasttext\n",
      "copying build\\lib.win-amd64-cpython-38\\fasttext_pybind.cp38-win_amd64.pyd -> build\\bdist.win-amd64\\egg\n",
      "byte-compiling build\\bdist.win-amd64\\egg\\fasttext\\FastText.py to FastText.cpython-38.pyc\n",
      "byte-compiling build\\bdist.win-amd64\\egg\\fasttext\\tests\\test_configurations.py to test_configurations.cpython-38.pyc\n",
      "byte-compiling build\\bdist.win-amd64\\egg\\fasttext\\tests\\test_script.py to test_script.cpython-38.pyc\n",
      "byte-compiling build\\bdist.win-amd64\\egg\\fasttext\\tests\\__init__.py to __init__.cpython-38.pyc\n",
      "byte-compiling build\\bdist.win-amd64\\egg\\fasttext\\util\\util.py to util.cpython-38.pyc\n",
      "byte-compiling build\\bdist.win-amd64\\egg\\fasttext\\util\\__init__.py to __init__.cpython-38.pyc\n",
      "byte-compiling build\\bdist.win-amd64\\egg\\fasttext\\__init__.py to __init__.cpython-38.pyc\n",
      "creating stub loader for fasttext_pybind.cp38-win_amd64.pyd\n",
      "byte-compiling build\\bdist.win-amd64\\egg\\fasttext_pybind.py to fasttext_pybind.cpython-38.pyc\n",
      "creating build\\bdist.win-amd64\\egg\\EGG-INFO\n",
      "copying python\\fasttext_module\\fasttext.egg-info\\SOURCES.txt -> build\\bdist.win-amd64\\egg\\EGG-INFO\n",
      "writing build\\bdist.win-amd64\\egg\\EGG-INFO\\native_libs.txt\n",
      "creating dist\n",
      "creating 'dist\\fasttext-0.9.2-py3.8-win-amd64.egg' and adding 'build\\bdist.win-amd64\\egg' to it\n",
      "removing 'build\\bdist.win-amd64\\egg' (and everything under it)\n",
      "Processing fasttext-0.9.2-py3.8-win-amd64.egg\n",
      "creating c:\\users\\bb\\anaconda3\\lib\\site-packages\\fasttext-0.9.2-py3.8-win-amd64.egg\n",
      "Extracting fasttext-0.9.2-py3.8-win-amd64.egg to c:\\users\\bb\\anaconda3\\lib\\site-packages\n",
      "Adding fasttext 0.9.2 to easy-install.pth file\n",
      "\n",
      "Installed c:\\users\\bb\\anaconda3\\lib\\site-packages\\fasttext-0.9.2-py3.8-win-amd64.egg\n",
      "Processing dependencies for fasttext==0.9.2\n",
      "Finished processing dependencies for fasttext==0.9.2\n",
      "C:\\Users\\BB\\Desktop\\Assigment_1\n"
     ]
    },
    {
     "name": "stderr",
     "output_type": "stream",
     "text": [
      "C:\\Users\\BB\\anaconda3\\lib\\site-packages\\setuptools\\dist.py:788: UserWarning: Usage of dash-separated 'description-file' will not be supported in future versions. Please use the underscore name 'description_file' instead\n",
      "  warnings.warn(\n",
      "C:\\Users\\BB\\anaconda3\\lib\\site-packages\\setuptools\\command\\install.py:34: SetuptoolsDeprecationWarning: setup.py install is deprecated. Use build and pip and other standards-based tools.\n",
      "  warnings.warn(\n",
      "C:\\Users\\BB\\anaconda3\\lib\\site-packages\\setuptools\\command\\easy_install.py:144: EasyInstallDeprecationWarning: easy_install command is deprecated. Use build and pip and other standards-based tools.\n",
      "  warnings.warn(\n",
      "warning: no files found matching 'PATENTS'\n"
     ]
    }
   ],
   "source": [
    "!git clone https://github.com/facebookresearch/fastText.git\n",
    "%cd fastText\n",
    "!pip install .\n",
    "!python setup.py install\n",
    "%cd .."
   ]
  },
  {
   "cell_type": "code",
   "execution_count": 198,
   "metadata": {},
   "outputs": [],
   "source": [
    "# Test if installation was successful\n",
    "import fasttext"
   ]
  },
  {
   "cell_type": "markdown",
   "metadata": {},
   "source": [
    "We use the following data for training the embeddings: trwiki-20230401-pages-articles-multistream.xml\n"
   ]
  },
  {
   "cell_type": "markdown",
   "metadata": {},
   "source": [
    "**Download preprocessing script**\n",
    "\n",
    "A raw Wikipedia dump contains a lot of HTML / XML data, for preprocessing it, you may use the script from: https://github.com/hghodrati/wikifil.git"
   ]
  },
  {
   "cell_type": "code",
   "execution_count": 2,
   "metadata": {},
   "outputs": [
    {
     "name": "stderr",
     "output_type": "stream",
     "text": [
      "fatal: destination path 'wikifil' already exists and is not an empty directory.\n"
     ]
    }
   ],
   "source": [
    "!git clone https://github.com/hghodrati/wikifil.git"
   ]
  },
  {
   "cell_type": "code",
   "execution_count": 4,
   "metadata": {},
   "outputs": [
    {
     "name": "stderr",
     "output_type": "stream",
     "text": [
      "The process cannot access the file because it is being used by another process.\n"
     ]
    }
   ],
   "source": [
    "# preprocess xml and save to new file\n",
    "!perl wikifil/wikifil.pl dataset/trwiki-20230401-pages-articles-multistream.xml > dataset/data_embed"
   ]
  },
  {
   "cell_type": "code",
   "execution_count": 199,
   "metadata": {},
   "outputs": [
    {
     "name": "stdout",
     "output_type": "stream",
     "text": [
      "\n",
      " one one six two do um yeri onon nehri d l n boldak mo olistan l m tarihi l m \n"
     ]
    }
   ],
   "source": [
    "# Visualize data\n",
    "!head -c 80 dataset/data_embed"
   ]
  },
  {
   "cell_type": "markdown",
   "metadata": {},
   "source": [
    "## Training with fastText\n",
    "\n",
    "You may find the documentation for training word respresentations here: \n",
    "* https://fasttext.cc/docs/en/unsupervised-tutorial.html\n",
    "* https://fasttext.cc/docs/en/python-module.html#train_unsupervised-parameters\n",
    "\n",
    "You may use the embedding dimension as 100, which is default by fasttext"
   ]
  },
  {
   "cell_type": "code",
   "execution_count": 200,
   "metadata": {},
   "outputs": [],
   "source": [
    "import fasttext\n",
    "\n",
    "EMBEDDING_DIM = 100"
   ]
  },
  {
   "cell_type": "markdown",
   "metadata": {},
   "source": [
    "You will need to train the word embedding using two approaches:\n",
    "* Continuous Bag of words\n",
    "* Skipgram\n",
    "After training, save the models in their respective paths\n",
    "\n",
    "You may refer to the tutorial/ documentation for that"
   ]
  },
  {
   "cell_type": "code",
   "execution_count": 201,
   "metadata": {},
   "outputs": [
    {
     "name": "stderr",
     "output_type": "stream",
     "text": [
      "A subdirectory or file results already exists.\n"
     ]
    }
   ],
   "source": [
    "%mkdir results\n",
    "CBOW_EMBED = \"results/embed_cbow.bin\"\n",
    "SKIPGRAM_EMBED = \"results/embed_skipgram.bin\""
   ]
  },
  {
   "cell_type": "code",
   "execution_count": 202,
   "metadata": {},
   "outputs": [],
   "source": [
    "#embed_model_cbow = fasttext.train_unsupervised(\"dataset/data_embed\", model = \"cbow\", dim = EMBEDDING_DIM)\n",
    "#embed_model_cbow.save_model(CBOW_EMBED)\n",
    "embed_model_cbow = fasttext.load_model(CBOW_EMBED)"
   ]
  },
  {
   "cell_type": "code",
   "execution_count": 203,
   "metadata": {},
   "outputs": [],
   "source": [
    "#embed_model_skipgram = fasttext.train_unsupervised(\"dataset/data_embed\", model = \"skipgram\", dim = EMBEDDING_DIM)\n",
    "#embed_model_skipgram.save_model(SKIPGRAM_EMBED)\n",
    "embed_model_skipgram = fasttext.load_model(SKIPGRAM_EMBED)"
   ]
  },
  {
   "cell_type": "code",
   "execution_count": 204,
   "metadata": {},
   "outputs": [
    {
     "name": "stderr",
     "output_type": "stream",
     "text": [
      "IOPub data rate exceeded.\n",
      "The notebook server will temporarily stop sending output\n",
      "to the client in order to avoid crashing it.\n",
      "To change this limit, set the config variable\n",
      "`--NotebookApp.iopub_data_rate_limit`.\n",
      "\n",
      "Current values:\n",
      "NotebookApp.iopub_data_rate_limit=1000000.0 (bytes/sec)\n",
      "NotebookApp.rate_limit_window=3.0 (secs)\n",
      "\n"
     ]
    }
   ],
   "source": [
    "print(embed_model_cbow.words)"
   ]
  },
  {
   "cell_type": "code",
   "execution_count": 205,
   "metadata": {},
   "outputs": [
    {
     "name": "stdout",
     "output_type": "stream",
     "text": [
      "[-1.026277   -3.285909    1.8773216   1.2026745  -2.862723    0.35582215\n",
      "  3.3496633   1.307696    5.106423    1.6444044  -0.75504905  2.7664747\n",
      "  2.1635878   0.37609613  2.2018158  -5.218342   -1.8235328  -0.07972104\n",
      " -7.5874014  -2.0351925  -0.07200696 -3.962251   -6.422708   -1.2449403\n",
      " -3.2433043  -0.3991816   1.6811556   2.0227056  -1.4541028  -1.1936781\n",
      " -1.2923727   0.8700587   1.8515731  -0.58396846 -4.0909815  -1.0090557\n",
      " -0.93535686  6.1117945  -3.545039   -1.6969752  -2.2047672  -2.4836571\n",
      "  0.10660865 -0.5311459  -1.0160065   2.1151106   3.8185475   1.1273342\n",
      "  1.1645334   1.8373682  -2.0739777  -2.6991165   2.639548    2.6499512\n",
      "  5.3779583   0.4747771   1.4675144  -1.987857    1.6209036  -4.7414556\n",
      "  1.6782322   5.333603    1.5374714  -0.23751381  1.6952997  -0.27999133\n",
      " -0.1858443  -2.27748    -1.9907255  -0.5440921   2.6197827  -3.016587\n",
      "  0.21958521  3.4475646  -0.5941757  -2.2808697   2.3925495  -0.06105692\n",
      "  2.5040977  -2.0119917  -1.5838467  -3.0431905  -5.387796   -2.7623925\n",
      " -3.2284176  -1.8450143  -2.7396996  -0.777556    1.0809956  -2.9260762\n",
      "  1.4479733  -1.0934272   2.1339483  -1.036781    2.06026     0.5417047\n",
      "  2.2177365  -0.7383234  -2.0616543   3.9484494 ]\n"
     ]
    }
   ],
   "source": [
    "print(embed_model_cbow['kral']) "
   ]
  },
  {
   "cell_type": "code",
   "execution_count": 8,
   "metadata": {},
   "outputs": [],
   "source": [
    "word = \"\""
   ]
  },
  {
   "cell_type": "code",
   "execution_count": 9,
   "metadata": {},
   "outputs": [
    {
     "data": {
      "text/plain": [
       "[(0.0, 'n'),\n",
       " (0.0, 'zero'),\n",
       " (0.0, 'nine'),\n",
       " (0.0, 'l'),\n",
       " (0.0, 'three'),\n",
       " (0.0, 've'),\n",
       " (0.0, 'four'),\n",
       " (0.0, 'fruzsina'),\n",
       " (0.0, 'slovacko'),\n",
       " (0.0, 'dovizi')]"
      ]
     },
     "execution_count": 9,
     "metadata": {},
     "output_type": "execute_result"
    }
   ],
   "source": [
    "embed_model_cbow.get_nearest_neighbors(word)"
   ]
  },
  {
   "cell_type": "code",
   "execution_count": 10,
   "metadata": {},
   "outputs": [
    {
     "name": "stdout",
     "output_type": "stream",
     "text": [
      "[-0.13298245 -0.04016509  0.39360836  0.4862256   0.20622572 -0.13901009\n",
      " -0.03415386  0.06240623  0.00248661 -0.19292882 -0.35777178  0.591437\n",
      "  0.4882901  -0.21753213 -0.01650698 -0.20769055 -0.3777108   0.01663102\n",
      "  0.37115124  0.39584032 -0.31063372  0.09664506 -0.2646753   0.4016691\n",
      " -0.37485522  0.6960676   0.2189217  -0.1287117   0.20475289 -0.02120434\n",
      "  0.31856257 -0.00194207  0.7428657  -0.1785729  -0.24715488 -0.2987573\n",
      " -0.27828807  1.008717   -0.0029207   0.3096474  -0.09502981  0.29907566\n",
      "  0.05595673  0.16168763  0.49806488 -0.10143907  0.7906862   0.6222476\n",
      "  0.341156    0.22385868  0.19504932  0.23430184 -0.6125229   0.32594085\n",
      "  0.14124203  0.19418907  0.77706945  0.17727612 -0.37319317 -0.0843094\n",
      "  0.23813118  0.05328131  0.8963781   0.30475956  0.6357826  -0.49366254\n",
      " -0.66606164  0.32757568  0.02972706 -0.0517244  -0.13225797  0.14183338\n",
      "  0.609693    0.36134657 -0.6572207   0.38703966 -0.2159436  -0.8672752\n",
      "  0.47734267  0.06841794  0.16303249 -0.53804827 -0.3907198  -0.10920352\n",
      " -0.3140157   0.21754558  0.18585753  0.260498   -0.23427355 -0.27910817\n",
      "  0.1550355   0.06168042  0.13444844  0.03159013  0.33815005 -0.12300394\n",
      "  0.5685256  -0.03463884  0.07554875 -0.14226507]\n"
     ]
    }
   ],
   "source": [
    "print(embed_model_skipgram['kral']) "
   ]
  },
  {
   "cell_type": "code",
   "execution_count": 11,
   "metadata": {},
   "outputs": [
    {
     "data": {
      "text/plain": [
       "[(0.0, 'n'),\n",
       " (0.0, 'zero'),\n",
       " (0.0, 'nine'),\n",
       " (0.0, 'l'),\n",
       " (0.0, 'three'),\n",
       " (0.0, 've'),\n",
       " (0.0, 'four'),\n",
       " (0.0, 'fruzsina'),\n",
       " (0.0, 'slovacko'),\n",
       " (0.0, 'dovizi')]"
      ]
     },
     "execution_count": 11,
     "metadata": {},
     "output_type": "execute_result"
    }
   ],
   "source": [
    "embed_model_skipgram.get_nearest_neighbors(word)"
   ]
  },
  {
   "cell_type": "markdown",
   "metadata": {},
   "source": []
  },
  {
   "cell_type": "markdown",
   "metadata": {},
   "source": [
    "#### Inline Question 2: Find an example of an analogy that holds, using the `get_analogies` function. Explain the analogy and also how the analogies are calculated.\n",
    "\n",
    "<font color='red'>Your answer: For my case, we can see if our model can guess what is to England, and what Madrid is to Spain. Since Madrid is the capital of Spain and also a city in Spain, I expect this function to list me some city in England and it did. To calculate an anaolgy, the function calculates the vector difference between target word's vectors and adds the resulting vector to the related word's vector. In other words, it does the following: vector representation of England + (vector representation of Spain - vector representation of Madrid). Finally, the function outputs the closest vector representations to the resulting vector using cosine similarity as distance metric, which are Manchester, leed, liverpool and etc. for my case.</font>\n"
   ]
  },
  {
   "cell_type": "code",
   "execution_count": 12,
   "metadata": {},
   "outputs": [
    {
     "data": {
      "text/plain": [
       "[(0.8072715997695923, 'manchester'),\n",
       " (0.7557413578033447, 'leeds'),\n",
       " (0.7529090642929077, 'liverpool'),\n",
       " (0.7391054034233093, 'birmingham'),\n",
       " (0.7285589575767517, 'ddersfield'),\n",
       " (0.7232592701911926, 'manchesterl'),\n",
       " (0.718942403793335, 'chelsea'),\n",
       " (0.7180668711662292, 'godmanchester'),\n",
       " (0.7169960141181946, 'newcastle'),\n",
       " (0.7133979797363281, 'leicester')]"
      ]
     },
     "execution_count": 12,
     "metadata": {},
     "output_type": "execute_result"
    }
   ],
   "source": [
    "embed_model_skipgram.get_analogies(\"madrid\", \"spain\", \"england\")"
   ]
  },
  {
   "cell_type": "markdown",
   "metadata": {},
   "source": []
  },
  {
   "cell_type": "markdown",
   "metadata": {},
   "source": [
    "# COMP542/442 - Assignment 1 - Part 2\n",
    "\n",
    "In this assignment, we are implementing an RNN-based POS (Part-of-Speech) tagger using BiLSTM (bidirectional Long Short-Term Memory) networks. \n",
    "\n",
    "The assignment consists of the following parts:\n",
    "* **Part I**: Preparation\n",
    "  * Installing the required packages\n",
    "  * Data loading and preprocessing\n",
    "  * Creating the datasets and dataloaders\n",
    "* **Part II**: Model Implementation and Training\n",
    "  * Implementing the BiLSTMPOS Tagger model\n",
    "  * Defining training and evaluation functions\n",
    "  * Running the training loop and observing the loss and accuracy\n",
    "  * Plotting the training metrics such as loss and accuracy\n",
    "  * Saving the model\n",
    "* **Part III**: Initializating BiLSTM with fastText Embeddings\n",
    "  * Loading the fastText model\n",
    "  * Initializating with fastText and BiLSTM models\n",
    "  * Training the model\n",
    "  * Evaluating the model\n",
    "\n",
    "Throughout the assignment, you will work with a POS dataset to train and test the model to recognize different POS tags for the given sentences. You also have the option to use this notebook on Google Colab that allows you to allocate a GPU for faster training.\n",
    "\n",
    "For more details about the POS tags, check the following link: https://universaldependencies.org/tr/pos/index.html"
   ]
  },
  {
   "cell_type": "markdown",
   "metadata": {},
   "source": [
    "# Part I. Preparation\n",
    "\n",
    "First, we load the Part-of-the-Speech (POS) dataset. Make sure you have downloaded the dataset using the provided script. Check the assignment handout for more details."
   ]
  },
  {
   "cell_type": "code",
   "execution_count": 206,
   "metadata": {
    "pycharm": {
     "is_executing": false
    },
    "tags": [
     "pdf-ignore"
    ]
   },
   "outputs": [],
   "source": [
    "import torch\n",
    "import torch.nn as nn\n",
    "import torch.optim as optim\n",
    "from torch.utils.data import DataLoader, Dataset\n",
    "from typing import List, Tuple, Dict\n",
    "import numpy as np\n",
    "import random\n",
    "from torch.nn.utils.rnn import pad_sequence\n",
    "import time\n",
    "from tqdm import tqdm\n",
    "from matplotlib import pyplot as plt\n",
    "import random\n",
    "from collections import Counter"
   ]
  },
  {
   "cell_type": "code",
   "execution_count": 207,
   "metadata": {},
   "outputs": [],
   "source": [
    "#Set the seeds for reproducibility\n",
    "SEED = 542\n",
    "\n",
    "random.seed(SEED)\n",
    "np.random.seed(SEED)\n",
    "torch.manual_seed(SEED)\n",
    "torch.backends.cudnn.deterministic = True"
   ]
  },
  {
   "cell_type": "markdown",
   "metadata": {},
   "source": [
    "You have an option to **use GPU by setting the flag to True below**. It is not necessary to use GPU for this assignment. Note that if your computer does not have CUDA enabled, `torch.cuda.is_available()` will return False and this notebook will fallback to CPU mode.\n",
    "\n",
    "The global variables `dtype` and `device` will control the data types throughout this assignment. "
   ]
  },
  {
   "cell_type": "code",
   "execution_count": 208,
   "metadata": {},
   "outputs": [
    {
     "name": "stdout",
     "output_type": "stream",
     "text": [
      "using device: cpu\n"
     ]
    }
   ],
   "source": [
    "USE_GPU = True\n",
    "\n",
    "dtype = torch.float32 # we will be using float throughout this tutorial\n",
    "\n",
    "if USE_GPU and torch.cuda.is_available():\n",
    "    device = torch.device('cuda')\n",
    "else:\n",
    "    device = torch.device('cpu')\n",
    "\n",
    "print('using device:', device)"
   ]
  },
  {
   "cell_type": "code",
   "execution_count": 209,
   "metadata": {},
   "outputs": [],
   "source": [
    "def parse_file(file_path):\n",
    "    \"\"\"\n",
    "    Parses a file in the Universal Dependencies (UD) annotation style and returns a list of all the sentences in the file.\n",
    "    Note: The data files you need in this part of the assignemnt are stored under the dataset/ directory. You can open the\n",
    "    files to have a better understanding of the format. If you want to learn more about the POS tags, you can visit the\n",
    "    Universal Dependencies website: https://universaldependencies.org/tr/pos/index.html\n",
    "\n",
    "    The output should be a list of tuples, where each tuple represents a sentence and contains (word, POS tag) pairs for each\n",
    "    word in the sentence. For example, the following sentence:\n",
    "\n",
    "    \"The quick brown fox jumps over the lazy dog.\"\n",
    "    should be represented as:\n",
    "    [(\"The\", \"DET\"), (\"quick\", \"ADJ\"), (\"brown\", \"ADJ\"), (\"fox\", \"NOUN\"), (\"jumps\", \"VERB\"), (\"over\", \"ADP\"), (\"the\", \"DET\"), (\"lazy\", \"ADJ\"), (\"dog\", \"NOUN\"), (\".\", \"PUNCT\")]\n",
    "    \n",
    "    Args:\n",
    "    file_path (str): The path to the file to be parsed.\n",
    "    \n",
    "    Returns:\n",
    "    list: A list of tuples, where each tuple represents a sentence and contains (word, POS tag) pairs for each word in the sentence.\n",
    "    \"\"\"\n",
    "    # *****START OF YOUR CODE*****\n",
    "    \n",
    "    sentences = []\n",
    "    with open(file_path, \"r\", encoding=\"utf-8\") as f:\n",
    "        sentence = []\n",
    "        for line in f:    \n",
    "            if line[0] == \"#\":  # ignores comment lines \n",
    "                continue\n",
    "            elif line.isspace():  # if end of sentence, adds the most recent sentence's tuples to the biggest array             print(sentence)\n",
    "                sentences.append(sentence)\n",
    "                sentence = []\n",
    "            else:\n",
    "                parts = line.strip().split(\"\\t\")\n",
    "                word = parts[1]\n",
    "                pos = parts[3]\n",
    "                sentence.append((word, pos))\n",
    "        sentences.append(sentence)  # if last sentence does not end with an empty line\n",
    "    return sentences\n",
    "\n",
    "    # *****END OF YOUR CODE*****\n"
   ]
  },
  {
   "cell_type": "code",
   "execution_count": null,
   "metadata": {},
   "outputs": [],
   "source": []
  },
  {
   "cell_type": "code",
   "execution_count": null,
   "metadata": {},
   "outputs": [],
   "source": []
  },
  {
   "cell_type": "code",
   "execution_count": null,
   "metadata": {},
   "outputs": [],
   "source": []
  },
  {
   "cell_type": "code",
   "execution_count": null,
   "metadata": {},
   "outputs": [],
   "source": []
  },
  {
   "cell_type": "code",
   "execution_count": 210,
   "metadata": {},
   "outputs": [],
   "source": [
    "def build_vocab(data: List[List[Tuple[str, str]]]) -> Tuple[Dict[str, int], Dict[str, int]]:\n",
    "    \"\"\"\n",
    "    Builds a vocabulary of words and part-of-speech (POS) tags based on the input data. Don't forget to add special tokens (e.g. <PAD>, <UNK>, etc.)\n",
    "\n",
    "    Args:\n",
    "    data (List[List[Tuple[str, str]]]): A list of sentences, where each sentence is represented as a list of (word, POS tag) tuples.\n",
    "\n",
    "    Returns:\n",
    "    Tuple[Dict[str, int], Dict[str, int]]: A tuple containing two dictionaries. The first dictionary maps words to their index in the vocabulary, and the second dictionary maps POS tags to their index in the vocabulary.\n",
    "    \"\"\"  \n",
    "    # *****START OF YOUR CODE*****\n",
    "    \n",
    "    PAD_TOKEN = \"<PAD>\"\n",
    "    UNK_TOKEN = \"<UNK>\"\n",
    "    \n",
    "    tokens = [PAD_TOKEN, UNK_TOKEN]\n",
    "    \n",
    "    # set keeps track of the unique words\n",
    "    word_vocab = set()  \n",
    "    pos_vocab = set()\n",
    "    \n",
    "    word_to_idx = {}\n",
    "    pos_to_idx = {}\n",
    "    \n",
    "    for sentence in data:\n",
    "        for word, pos in sentence:\n",
    "            word_vocab.add(word)\n",
    "            pos_vocab.add(pos)\n",
    "            \n",
    "    # first assigns the IDs of tokens\n",
    "    word_to_idx = {token: i for i, token in enumerate(tokens)}\n",
    "    pos_to_idx = {token: i for i, token in enumerate(tokens)}\n",
    "            \n",
    "    # then assigns uniques IDs for each word \n",
    "    word_to_idx.update({word: i for i, word in enumerate(word_vocab, start = len(tokens))})\n",
    "    pos_to_idx.update({pos: i for i, pos in enumerate(pos_vocab, start = len(tokens))})\n",
    "    \n",
    "    return word_to_idx, pos_to_idx\n",
    "    \n",
    "    # *****END OF YOUR CODE*****"
   ]
  },
  {
   "cell_type": "code",
   "execution_count": 211,
   "metadata": {},
   "outputs": [],
   "source": [
    "# Parse the training and validation data files using the `parse_file` function\n",
    "training_data = parse_file(\"./dataset/train.conllu\")\n",
    "validation_data = parse_file(\"./dataset/val.conllu\")\n",
    "\n",
    "# Build the vocabulary for the training data using the `build_vocab` function\n",
    "# The `build_vocab` function returns two dictionaries:\n",
    "#   - `word_to_idx`: maps words to their index in the vocabulary\n",
    "#   - `pos_to_idx`: maps POS tags to their index in the vocabulary\n",
    "word_to_idx, pos_to_idx = build_vocab(training_data)"
   ]
  },
  {
   "cell_type": "code",
   "execution_count": null,
   "metadata": {},
   "outputs": [],
   "source": []
  },
  {
   "cell_type": "code",
   "execution_count": 212,
   "metadata": {},
   "outputs": [],
   "source": [
    "#Helper functions to convert between indices and human-readable format. You don't need to do anything here.\n",
    "#Just reading and making sure you understand what's going on is enough.\n",
    "\n",
    "idx_to_word = {idx: word for word, idx in word_to_idx.items()}\n",
    "idx_to_pos = {idx: pos for pos, idx in pos_to_idx.items()}\n",
    "\n",
    "def convert_idx_to_words(indices: torch.tensor) -> str:\n",
    "    \"\"\"Converts a sequence of word indices to a human-readable format.\n",
    "    \n",
    "    Args:\n",
    "        indices (torch.tensor): A sequence of word indices.\n",
    "    \n",
    "    Returns:\n",
    "        str: A string representation of the sequence of words.\n",
    "    \"\"\"\n",
    "    return \" \".join([idx_to_word[idx.item()] for idx in indices])\n",
    "\n",
    "def convert_idx_to_pos(indices: torch.tensor) -> str:\n",
    "    \"\"\"Converts a sequence of POS tag indices to a human-readable format.\n",
    "    \n",
    "    Args:\n",
    "        indices (torch.tensor): A sequence of POS tag indices.\n",
    "    \n",
    "    Returns:\n",
    "        str: A string representation of the sequence of POS tags.\n",
    "    \"\"\"\n",
    "    return \" \".join([idx_to_pos[idx.item()] for idx in indices])"
   ]
  },
  {
   "cell_type": "code",
   "execution_count": 213,
   "metadata": {},
   "outputs": [],
   "source": [
    "# Helper function used for minibatching. You don't need to do anything here. Just reading and making sure you understand what's going on is enough.\n",
    "\n",
    "def collate_batch(batch):\n",
    "    \"\"\"\n",
    "    This function collates a batch of sentences into a padded tensor that can be processed by the model.\n",
    "\n",
    "    Arguments:\n",
    "\n",
    "    batch: a list of tuples where each tuple contains a sentence and its corresponding POS tags.\n",
    "    Returns:\n",
    "\n",
    "    A tuple of two padded tensors: one containing the text data and the other containing the POS tags.\n",
    "    \"\"\"\n",
    "    \n",
    "    tag_list, text_list = [], []\n",
    "    for (line, label) in batch:\n",
    "        text_list.append(line)\n",
    "        tag_list.append(label)\n",
    "        \n",
    "    return (\n",
    "        pad_sequence(text_list, padding_value=word_to_idx['<PAD>']),\n",
    "        pad_sequence(tag_list, padding_value=pos_to_idx['<PAD>'])\n",
    "    )"
   ]
  },
  {
   "cell_type": "markdown",
   "metadata": {},
   "source": [
    "### Build Vocabulary"
   ]
  },
  {
   "cell_type": "code",
   "execution_count": 214,
   "metadata": {},
   "outputs": [],
   "source": [
    "class POSDataset(Dataset):\n",
    "    \"\"\"\n",
    "    A class representing a Part-Of-Speech (POS) tagging dataset, which inherits from PyTorch's Dataset class.\n",
    "    You need to four methods for this class:\n",
    "    - __init__: Initializes the dataset object.\n",
    "    - __len__: Returns the number of sentences in the dataset.\n",
    "    - __getitem__: Returns the i-th sentence in the dataset.\n",
    "    - vocab_lookup: Converts a sentence represented as a list of word/POS-tag pairs (tuples) to a pair of PyTorch tensors \n",
    "                    representing the corresponding sequences of word and POS tag indices. Out of vocabulary words are\n",
    "                    represented by the index of the \"<UNK>\" token.\n",
    "    \"\"\"\n",
    "\n",
    "    def __init__(self, data: List[List[Tuple[str, str]]], word_to_idx: Dict, pos_to_idx: Dict):\n",
    "        \"\"\"\n",
    "        Initializes a new POSDataset object.\n",
    "        Args:\n",
    "        - data: A list of sentences, where each sentence is a list of word/POS-tag pairs (tuples).\n",
    "        - word_to_idx: A dictionary mapping words to their corresponding indices.\n",
    "        - pos_to_idx: A dictionary mapping POS tags to their corresponding indices.\n",
    "        \"\"\"\n",
    "        # *****START OF YOUR CODE*****\n",
    "        \n",
    "        self.data = data\n",
    "        self.word_to_idx = word_to_idx\n",
    "        self.pos_to_idx = pos_to_idx\n",
    "\n",
    "        # *****END OF YOUR CODE*****\n",
    "\n",
    "    def vocab_lookup(self, sentence: List[Tuple[str, str]]) -> Tuple[torch.tensor, torch.tensor]:\n",
    "        \"\"\"\n",
    "        Converts a sentence represented as a list of word/POS-tag pairs (tuples) to a pair of PyTorch tensors\n",
    "        representing the corresponding sequences of word and POS tag indices. Out of vocabulary words are\n",
    "        represented by the index of the \"<UNK>\" token.\n",
    "\n",
    "        Args:\n",
    "        - sentence: A list of word/POS-tag pairs (tuples) representing a single sentence.\n",
    "\n",
    "        Returns:\n",
    "        A tuple containing two PyTorch tensors, the first representing the sequence of word indices in the sentence,\n",
    "        and the second representing the sequence of POS tag indices in the sentence.\n",
    "        \"\"\"\n",
    "        # *****START OF YOUR CODE*****\n",
    "        \n",
    "        word_indices = []\n",
    "        pos_indices = []\n",
    "        \n",
    "        for word, pos in sentence:\n",
    "            if word in self.word_to_idx:\n",
    "                word_indices.append(self.word_to_idx[word])\n",
    "            else:\n",
    "                word_indices.append(self.word_to_idx[\"<UNK>\"])\n",
    "\n",
    "            if pos in self.pos_to_idx:\n",
    "                pos_indices.append(self.pos_to_idx[pos])\n",
    "            else:\n",
    "                pos_indices.append(self.pos_to_idx[\"<UNK>\"])                \n",
    "         \n",
    "        word_indices = torch.tensor(word_indices)\n",
    "        pos_indices = torch.tensor(pos_indices)\n",
    "\n",
    "        return word_indices, pos_indices\n",
    "    \n",
    "        # *****END OF YOUR CODE*****\n",
    "\n",
    "    \n",
    "    def __len__(self):\n",
    "        \"\"\"\n",
    "        Returns the number of sentences in the dataset.\n",
    "        \"\"\"\n",
    "        # *****START OF YOUR CODE*****\n",
    "        \n",
    "        return len(self.data)\n",
    "\n",
    "        # *****END OF YOUR CODE*****\n",
    "\n",
    "    def __getitem__(self, idx: int) -> Tuple[torch.tensor, torch.tensor]:\n",
    "        \"\"\"\n",
    "        Returns a single sentence from the dataset as a pair of PyTorch tensors representing the corresponding\n",
    "        sequences of word and POS tag indices.\n",
    "\n",
    "        Args:\n",
    "        - idx: The index of the sentence to retrieve.\n",
    "\n",
    "        Returns:\n",
    "        A http://localhost:8888/notebooks/Assigment_1/assignment_1.ipynb#tuple containing two PyTorch tensors, the first representing the sequence of word indices in the sentence,\n",
    "        and the second representing the sequence of POS tag indices in the sentence.\n",
    "        \"\"\"\n",
    "        # *****START OF YOUR CODE*****\n",
    "        \n",
    "        sentence = self.data[idx]\n",
    "        return self.vocab_lookup(sentence)\n",
    "\n",
    "        # *****END OF YOUR CODE*****\n"
   ]
  },
  {
   "cell_type": "code",
   "execution_count": 215,
   "metadata": {},
   "outputs": [],
   "source": [
    "BATCH_SIZE = 64"
   ]
  },
  {
   "cell_type": "code",
   "execution_count": 216,
   "metadata": {},
   "outputs": [],
   "source": [
    "# This part is preparing the training and validation datasets by creating POSDataset objects \n",
    "# using training_data and validation_data. The word_to_idx and pos_to_idx dictionaries created in build_vocab \n",
    "# are passed to POSDataset so that each sentence in the datasets can be converted to a tensor of word and POS tag indices.\n",
    "# Then, DataLoader objects are created for both the training and validation datasets, with BATCH_SIZE batches per iteration. \n",
    "# shuffle=True is used to shuffle the order of samples in each batch, which helps to prevent the model from overfitting to the order of the data. \n",
    "# collate_batch is used as the function to merge samples into batches, as it pads sequences to the same length and \n",
    "# returns two tensors, one for the word indices and one for the POS tag indices.\n",
    "# This code block is essential to prepare the data for training the model. \n",
    "# The training and validation dataloaders can be used in the training loop to iterate over the dataset in batches.\n",
    "\n",
    "training_dataset = POSDataset(training_data, word_to_idx, pos_to_idx) \n",
    "validation_dataset = POSDataset(validation_data, word_to_idx, pos_to_idx) \n",
    "\n",
    "training_dataloader = DataLoader(training_dataset, batch_size=BATCH_SIZE, shuffle=True, collate_fn=collate_batch)\n",
    "validation_dataloader = DataLoader(validation_dataset, batch_size=BATCH_SIZE, shuffle=True, collate_fn=collate_batch)"
   ]
  },
  {
   "cell_type": "code",
   "execution_count": 217,
   "metadata": {},
   "outputs": [
    {
     "name": "stdout",
     "output_type": "stream",
     "text": [
      "Unique tokens in word vocabulary: 33488\n",
      "Unique tokens in tag vocabulary: 19\n",
      "\n",
      "Number of training examples: 7804\n",
      "Number of validation examples: 980\n"
     ]
    }
   ],
   "source": [
    "# It is always usefull to see dataset statistics to get a better understanding of the data.\n",
    "print(f\"Unique tokens in word vocabulary: {len(word_to_idx)}\")\n",
    "print(f\"Unique tokens in tag vocabulary: {len(pos_to_idx)}\")\n",
    "print()\n",
    "print(f\"Number of training examples: {len(training_dataset)}\")\n",
    "print(f\"Number of validation examples: {len(validation_dataset)}\")"
   ]
  },
  {
   "cell_type": "code",
   "execution_count": 287,
   "metadata": {},
   "outputs": [
    {
     "data": {
      "text/plain": [
       "(tensor([ 3938, 24842,   871,  2164,  9313,  6489, 29963]),\n",
       " tensor([17,  5,  5, 12,  6,  4, 11]))"
      ]
     },
     "execution_count": 287,
     "metadata": {},
     "output_type": "execute_result"
    }
   ],
   "source": [
    "training_dataset[4]"
   ]
  },
  {
   "cell_type": "code",
   "execution_count": 218,
   "metadata": {},
   "outputs": [
    {
     "name": "stdout",
     "output_type": "stream",
     "text": [
      "Sample from the dataset: (tensor([ 3938, 24842,   871,  2164,  9313,  6489, 29963]), tensor([17,  5,  5, 12,  6,  4, 11]))\n",
      "\n",
      "Human-readable version: Rüzgâr yine güçlü esiyordu esiyor du . NOUN ADV ADV _ VERB AUX PUNCT\n"
     ]
    }
   ],
   "source": [
    "# Check a random sample from the training dataset to see if the data is correctly loaded.\n",
    "print(\"Sample from the dataset:\", training_dataset[4])\n",
    "print()\n",
    "print(\"Human-readable version:\", convert_idx_to_words(training_dataset[4][0]), convert_idx_to_pos(training_dataset[4][1]))"
   ]
  },
  {
   "cell_type": "markdown",
   "metadata": {},
   "source": [
    "# Part 2: Model Implementation and Training\n",
    "\n",
    "In this part of the assignment, the focus is on Model Implementation and Training. This section involves the following steps:\n",
    "\n",
    "Implementing the BiLSTM POS Tagger model: In this step, you will create a class called BiLSTMPOSTagger that inherits from nn.Module. This class will be used for implementing the BiLSTM (bidirectional Long Short-Term Memory) network for POS tagging. The BiLSTM model will consist of an Embedding layer, an LSTM layer, a Dropout layer, and a Linear layer to make predictions.\n",
    "\n",
    "Defining training and evaluation functions: After implementing the model, you will need to define two essential functions for training and evaluation. The train_for_single_epoch function will be responsible for training the model for one epoch on the datasets. The evaluate function will be used for evaluating the model's performance on a given dataset. Both the functions will receive important arguments such as the model, dataset iterator, optimizer, and criterion (loss function).\n",
    "\n",
    "Running the training loop and observing the loss and accuracy: In this step, you will carry out the actual training. First, you will initialize the model, optimizer, and criterion. Then, you will run the training loop for a certain number of epochs (e.g., 10). In each epoch, you will train the model for one epoch using the train_for_single_epoch function and evaluate its performance on the validation dataset using the evaluate function. Finally, you will print and store the training loss and evaluation accuracy for each epoch.\n",
    "\n",
    "By the end of Part II, you will have a model that has been trained on the POS tagging dataset, and you can observe how the training process affects the loss and accuracy metrics."
   ]
  },
  {
   "cell_type": "code",
   "execution_count": 219,
   "metadata": {
    "pycharm": {
     "is_executing": false
    }
   },
   "outputs": [],
   "source": [
    "class BiLSTMPOSTagger(nn.Module):\n",
    "    def __init__(self, input_dim, embedding_dim, hidden_dim, output_dim, n_layers, bidirectional, dropout, pad_idx):\n",
    "        \"\"\"\n",
    "        BiLSTM model for POS tagging.\n",
    "        Check this link for more details: https://pytorch.org/docs/stable/generated/torch.nn.LSTM.html\n",
    "\n",
    "        Args:\n",
    "            input_dim (int): Number of unique words in the vocabulary.\n",
    "            embedding_dim (int): Dimension of the word embeddings.\n",
    "            hidden_dim (int): Dimension of the LSTM hidden states.\n",
    "            output_dim (int): Number of unique POS tags.\n",
    "            n_layers (int): Number of LSTM layers.\n",
    "            bidirectional (bool): Whether to use a bidirectional LSTM.\n",
    "            dropout (float): Probability of dropout, if any.\n",
    "            pad_idx (int): Index of the <PAD> token in the vocabulary.\n",
    "        \"\"\"\n",
    "        super().__init__()\n",
    "\n",
    "        # *****START OF YOUR CODE*****\n",
    "        \n",
    "        self.embedding = nn.Embedding(input_dim, embedding_dim, padding_idx=pad_idx)\n",
    "        self.lstm = nn.LSTM(embedding_dim, hidden_dim, num_layers=n_layers, bidirectional=bidirectional, dropout=dropout)\n",
    "        self.dropout = nn.Dropout(dropout)\n",
    "        self.linear = nn.Linear(2 * hidden_dim if bidirectional else hidden_dim, output_dim)\n",
    "\n",
    "        # *****END OF YOUR CODE*****\n",
    "        \n",
    "    def forward(self, text):\n",
    "        \"\"\"\n",
    "        Perform forward pass through the model.\n",
    "\n",
    "        Args:\n",
    "            text (Tensor): Input text of shape [sent len, batch size].\n",
    "\n",
    "        Returns:\n",
    "            Tensor: Predictions of shape [sent len, batch size, output dim].\n",
    "        \"\"\"\n",
    "        # *****START OF YOUR CODE*****\n",
    "        lstm, _ = self.lstm(self.embedding(text))\n",
    "        return self.linear(self.dropout(lstm))\n",
    "\n",
    "        # *****END OF YOUR CODE*****"
   ]
  },
  {
   "cell_type": "markdown",
   "metadata": {},
   "source": [
    "##### Inline question 3: How do you compare the advantages and disadvantages of using a bidirectional LSTM versus a unidirectional LSTM? #####\n",
    "<font color='red'>Your answer: BiLSTMs can capture both past and future context and are more effective in modeling long-range dependencies which makes it richer in represention of input sequences. However, compared to unidirectional LSTMs, it is computationally more expensive and require more memory since they process the input sequence in two directions. In contrast, unidirectional LSTMs require less memory and are more efficient since it processes in one direction. Especially when past context is less important than future context, it may become sufficant therefore, in some cases, there is no need to use bidirectional LSTMs. The disadvantages of unidirectional LSTMs are, they may produce less informative representations of input sequences and may not be able to capture certain patterns or dependencies of the innput, especially for complex or future context required downstream tasks. </font>"
   ]
  },
  {
   "cell_type": "code",
   "execution_count": 273,
   "metadata": {},
   "outputs": [],
   "source": [
    "N_LAYERS = 2\n",
    "HIDDEN_DIM = 100\n",
    "BIDIRECTIONAL = True\n",
    "DROPOUT = 0.3"
   ]
  },
  {
   "cell_type": "code",
   "execution_count": 274,
   "metadata": {},
   "outputs": [],
   "source": [
    "# initialize the model\n",
    "model = BiLSTMPOSTagger(\n",
    "    input_dim=len(word_to_idx),\n",
    "    embedding_dim=EMBEDDING_DIM,\n",
    "    hidden_dim=HIDDEN_DIM,\n",
    "    output_dim=len(pos_to_idx),\n",
    "    n_layers=N_LAYERS,\n",
    "    bidirectional=BIDIRECTIONAL,\n",
    "    dropout=DROPOUT,\n",
    "    pad_idx=word_to_idx['<PAD>']\n",
    ")\n"
   ]
  },
  {
   "cell_type": "code",
   "execution_count": 242,
   "metadata": {},
   "outputs": [
    {
     "name": "stdout",
     "output_type": "stream",
     "text": [
      "tensor([[-0.0287,  0.0530, -0.0745,  0.0423,  0.0548, -0.0428,  0.0140, -0.0374,\n",
      "         -0.0127,  0.0346, -0.0746, -0.0047, -0.0071,  0.0921, -0.0606, -0.0456,\n",
      "         -0.0410, -0.0018, -0.0332],\n",
      "        [-0.0042,  0.0110, -0.0483,  0.0782,  0.0366, -0.0464,  0.0219, -0.0014,\n",
      "         -0.0618, -0.0154, -0.0276,  0.0034, -0.0530,  0.0950, -0.0165, -0.0362,\n",
      "         -0.0011, -0.0131, -0.0418],\n",
      "        [-0.0304,  0.0489, -0.0350,  0.0815,  0.0159,  0.0119,  0.0119, -0.0447,\n",
      "         -0.0732,  0.0074, -0.0441, -0.0020, -0.0120,  0.0475, -0.0484, -0.0583,\n",
      "          0.0081, -0.0082, -0.0433],\n",
      "        [-0.0290,  0.0802, -0.0417,  0.0795,  0.0093,  0.0053,  0.0198, -0.0315,\n",
      "         -0.0172, -0.0082, -0.0791,  0.0039,  0.0062,  0.0973, -0.0048, -0.0814,\n",
      "          0.0077, -0.0140, -0.0912],\n",
      "        [-0.0224,  0.0104, -0.0510,  0.0984, -0.0028, -0.0477,  0.0022, -0.0906,\n",
      "         -0.0142,  0.0625, -0.0508,  0.0072,  0.0273,  0.1131, -0.0026, -0.0908,\n",
      "         -0.0161,  0.0153, -0.0940]])\n"
     ]
    }
   ],
   "source": [
    "# See the output of the model for a random sample from the training dataset.\n",
    "# It is wrapped in torch.no_grad() because we are not training the model.\n",
    "with torch.no_grad():\n",
    "    inputs = training_dataset[0][0]\n",
    "    tag_scores = model(inputs)\n",
    "    print(tag_scores)"
   ]
  },
  {
   "cell_type": "code",
   "execution_count": null,
   "metadata": {},
   "outputs": [],
   "source": []
  },
  {
   "cell_type": "code",
   "execution_count": 223,
   "metadata": {},
   "outputs": [],
   "source": [
    "def train_for_single_epoch(model, iterator, optimizer, criterion, device, tag_pad_idx):\n",
    "    \"\"\"\n",
    "    Trains the model for one epoch on the given iterator with the specified optimizer and criterion.\n",
    "\n",
    "    Args:\n",
    "        model: The neural network model to train.\n",
    "        iterator: The iterator over the training dataset.\n",
    "        optimizer: The optimizer to use for gradient descent.\n",
    "        criterion: The loss function to use.\n",
    "        tag_pad_idx: The index of the padding token in the tag vocabulary.\n",
    "        tag_unk_idx: The index of the unknown token in the tag vocabulary.\n",
    "\n",
    "    Returns:\n",
    "        The average loss and accuracy for the epoch.\n",
    "    \"\"\"\n",
    "    # *****START OF YOUR CODE*****\n",
    "    \n",
    "    model.train() # puts the model in training mode\n",
    "    model = model.to(device=device)  # moves the model parameters to CPU/GPU\n",
    "    \n",
    "    epoch_loss = 0\n",
    "    epoch_accuracy = 0\n",
    "    \n",
    "    for text, tag in iterator:        \n",
    "        \n",
    "        text = text.to(device)  # moves the tensors to the specified device\n",
    "        tag = tag.to(device)\n",
    "        \n",
    "        y_pred = model(text)\n",
    "        y_pred = y_pred.view(-1, y_pred.shape[-1])\n",
    "        tag = tag.view(-1)\n",
    "\n",
    "        loss = criterion(y_pred, tag)\n",
    "\n",
    "        optimizer.zero_grad()\n",
    "        \n",
    "        loss.backward()\n",
    "        optimizer.step()\n",
    "        \n",
    "        accuracy = categorical_accuracy(y_pred, tag, tag_pad_idx)\n",
    "        loss = loss.detach()\n",
    "        epoch_loss += loss.item()\n",
    "        epoch_accuracy += accuracy.item()\n",
    "        \n",
    "    avg_epoch_loss = epoch_loss / len(iterator)\n",
    "    avg_epoch_accuracy = epoch_accuracy / len(iterator)\n",
    "    \n",
    "    return avg_epoch_loss, avg_epoch_accuracy\n",
    "\n",
    "    # *****END OF YOUR CODE*****"
   ]
  },
  {
   "cell_type": "code",
   "execution_count": 122,
   "metadata": {},
   "outputs": [],
   "source": [
    "def categorical_accuracy(preds, y, tag_pad_idx):\n",
    "    \"\"\"\n",
    "    Returns the categorical accuracy between predictions and the ground truth, ignoring pad tokens.\n",
    "    \"\"\"\n",
    "    # *****START OF YOUR CODE*****\n",
    "    \n",
    "    preds = preds.argmax(dim=-1)\n",
    "    \n",
    "    mask = y != tag_pad_idx # ignores pad tokens\n",
    "    \n",
    "    correct = (preds == y) & mask\n",
    "    num_correct = correct.sum().float()\n",
    "    num_total = mask.sum().float()\n",
    "    \n",
    "    return num_correct / num_total\n",
    "    \n",
    "    # *****END OF YOUR CODE*****"
   ]
  },
  {
   "cell_type": "code",
   "execution_count": 226,
   "metadata": {},
   "outputs": [],
   "source": [
    "def evaluate(model, iterator, tag_pad_idx):\n",
    "    \"\"\"\n",
    "    Evaluate the performance of a BiLSTMPOSTagger model on a given dataset iterator. Use the categorical_accuracy function\n",
    "    you implemented above to calculate the accuracy on a batch of predictions.\n",
    "\n",
    "    Args:\n",
    "    - model: a BiLSTMPOSTagger object.\n",
    "    - iterator: a DataLoader object containing (text, tags) tuples.\n",
    "    - tag_pad_idx: an integer representing the index of the padding token in the tag vocabulary.\n",
    "\n",
    "    Returns:\n",
    "    - A float representing the categorical accuracy of the model on the given dataset iterator.\n",
    "\n",
    "    \"\"\"\n",
    "    # *****START OF YOUR CODE*****\n",
    "    \n",
    "    model.eval() # puts model to evaluation mode\n",
    "    model = model.to(device=device)  # moves the model parameters to CPU/GPU\n",
    "    correct = 0\n",
    "\n",
    "    with torch.no_grad():\n",
    "        for text, tag in iterator:\n",
    "            text, tag = text.to(device), tag.to(device)\n",
    "            preds = model(text)\n",
    "            \n",
    "            accuracy = categorical_accuracy(preds, tag, tag_pad_idx)\n",
    "            correct += accuracy\n",
    "            \n",
    "    return correct/len(iterator)\n",
    "\n",
    "    # *****END OF YOUR CODE*****"
   ]
  },
  {
   "cell_type": "code",
   "execution_count": 227,
   "metadata": {},
   "outputs": [
    {
     "name": "stdout",
     "output_type": "stream",
     "text": [
      "Accuracy before training: 6.14%\n"
     ]
    }
   ],
   "source": [
    "# Check the models accuracy without training\n",
    "accuracy = evaluate(model, validation_dataloader, tag_pad_idx=pos_to_idx['<PAD>'])\n",
    "print(f'Accuracy before training: {accuracy*100:.2f}%')"
   ]
  },
  {
   "cell_type": "code",
   "execution_count": null,
   "metadata": {},
   "outputs": [],
   "source": []
  },
  {
   "cell_type": "code",
   "execution_count": 319,
   "metadata": {},
   "outputs": [
    {
     "name": "stdout",
     "output_type": "stream",
     "text": [
      "Accuracy of random predictions: 5.31%\n",
      "Accuracy of predicting the most frequent class: 29.61%\n"
     ]
    }
   ],
   "source": [
    "# Calculate the accuracy of random predictions\n",
    "epoch_correct = epoch_n_label = random_accuracy = most_frequent_accuracy = 0\n",
    "\n",
    "# *****START OF YOUR CODE*****\n",
    "for text, tags in training_dataset:\n",
    "\n",
    "    predictions = torch.randint(high=len(pos_to_idx), size=tags.shape)  # randomly predics\n",
    "    \n",
    "    batch_n_label = tags.numel()\n",
    "    \n",
    "    epoch_correct += torch.sum(predictions == tags).item()\n",
    "    epoch_n_label += batch_n_label\n",
    "\n",
    "random_accuracy = epoch_correct / epoch_n_label\n",
    "\n",
    "# *****END OF YOUR CODE*****\n",
    "\n",
    "print(f'Accuracy of random predictions: {random_accuracy*100:.2f}%')\n",
    "\n",
    "# Calculate the accuracy of predicting the most frequent class\n",
    "\n",
    "# Get the most frequent class\n",
    "\n",
    "# *****START OF YOUR CODE*****\n",
    "\n",
    "epoch_correct = epoch_n_label = batch_n_label = 0\n",
    "\n",
    "tag_items = [id.item() for text, tag in training_dataset for id in tag]\n",
    "most_frequency_class = Counter(tag_items).most_common(1)[0][0]\n",
    "\n",
    "for text, tags in training_dataset:\n",
    "\n",
    "    predictions = most_frequency_class\n",
    "    \n",
    "    batch_n_label = tags.numel()\n",
    "    \n",
    "    epoch_correct += torch.sum(predictions == tags).item()\n",
    "    epoch_n_label += batch_n_label\n",
    "\n",
    "most_frequent_accuracy = epoch_correct / epoch_n_label\n",
    "\n",
    "# *****END OF YOUR CODE*****\n",
    "print(f'Accuracy of predicting the most frequent class: {most_frequent_accuracy*100:.2f}%')"
   ]
  },
  {
   "cell_type": "code",
   "execution_count": null,
   "metadata": {},
   "outputs": [],
   "source": []
  },
  {
   "cell_type": "code",
   "execution_count": null,
   "metadata": {},
   "outputs": [],
   "source": []
  },
  {
   "cell_type": "code",
   "execution_count": null,
   "metadata": {},
   "outputs": [],
   "source": []
  },
  {
   "cell_type": "code",
   "execution_count": 275,
   "metadata": {},
   "outputs": [],
   "source": [
    "#Define hyperparameters\n",
    "\n",
    "NUM_OF_EPOCHS = 10\n",
    "LEARNING_RATE = 0.001"
   ]
  },
  {
   "cell_type": "code",
   "execution_count": 276,
   "metadata": {},
   "outputs": [],
   "source": [
    "optimizer = optim.Adam(model.parameters(), lr=LEARNING_RATE)\n",
    "\n",
    "criterion = nn.CrossEntropyLoss(ignore_index=pos_to_idx['<PAD>']) #Modify this part if you are using a different padding token.\n",
    "criterion = criterion.to(device)"
   ]
  },
  {
   "cell_type": "code",
   "execution_count": 277,
   "metadata": {},
   "outputs": [
    {
     "name": "stdout",
     "output_type": "stream",
     "text": [
      "Epoch 1/10 | Train Loss: 1.7700 | Train Accuracy: 47.62% | Val Accuracy: 57.95%\n",
      "Epoch 2/10 | Train Loss: 1.1258 | Train Accuracy: 63.47% | Val Accuracy: 67.28%\n",
      "Epoch 3/10 | Train Loss: 0.8861 | Train Accuracy: 71.13% | Val Accuracy: 72.61%\n",
      "Epoch 4/10 | Train Loss: 0.7409 | Train Accuracy: 75.75% | Val Accuracy: 74.96%\n",
      "Epoch 5/10 | Train Loss: 0.6379 | Train Accuracy: 79.02% | Val Accuracy: 76.51%\n",
      "Epoch 6/10 | Train Loss: 0.5526 | Train Accuracy: 81.96% | Val Accuracy: 77.89%\n",
      "Epoch 7/10 | Train Loss: 0.4818 | Train Accuracy: 84.42% | Val Accuracy: 78.50%\n",
      "Epoch 8/10 | Train Loss: 0.4202 | Train Accuracy: 86.37% | Val Accuracy: 79.38%\n",
      "Epoch 9/10 | Train Loss: 0.3615 | Train Accuracy: 88.37% | Val Accuracy: 80.16%\n",
      "Epoch 10/10 | Train Loss: 0.3094 | Train Accuracy: 90.09% | Val Accuracy: 79.78%\n"
     ]
    }
   ],
   "source": [
    "loss_history = []\n",
    "val_accuracy_history = []\n",
    "train_accuracy_history = []\n",
    "\n",
    "for x in range(NUM_OF_EPOCHS):\n",
    "    # Call the train_for_single_epoch function and store the result in the training_loss variable.\n",
    "    # Call the evaluate function and store the result in the validation_accuracy variable.\n",
    "    # Print out the current epoch number, training loss, and validation accuracy using the print function and formatted string syntax. \n",
    "    # Append the training_loss and validation_accuracy values to their respective history lists (loss_history and accuracy_history).\n",
    "    # *****START OF YOUR CODE*****\n",
    "    \n",
    "    train_loss, train_accuracy = train_for_single_epoch(model, training_dataloader, optimizer, criterion, device, tag_pad_idx=pos_to_idx['<PAD>'])\n",
    "    \n",
    "    val_accuracy = evaluate(model, validation_dataloader, tag_pad_idx=pos_to_idx['<PAD>'])\n",
    "    \n",
    "    # prints out the epoch number, training loss, and validation accuracy\n",
    "    print(f\"Epoch {x+1}/{NUM_OF_EPOCHS} | Train Loss: {train_loss:.4f} | Train Accuracy: {train_accuracy*100:.2f}% | Val Accuracy: {val_accuracy*100:.2f}%\")\n",
    "    \n",
    "    loss_history.append(train_loss)\n",
    "    train_accuracy_history.append(train_accuracy)\n",
    "    val_accuracy_history.append(val_accuracy)\n",
    "\n",
    "\n",
    "    # *****END OF YOUR CODE*****"
   ]
  },
  {
   "cell_type": "code",
   "execution_count": 278,
   "metadata": {},
   "outputs": [
    {
     "data": {
      "image/png": "[encoded data removed]",
      "text/plain": [
       "<Figure size 576x576 with 2 Axes>"
      ]
     },
     "metadata": {
      "needs_background": "light"
     },
     "output_type": "display_data"
    }
   ],
   "source": [
    "#To plot the training metrics, use the matplotlib library.\n",
    "\n",
    "# *****START OF YOUR CODE*****\n",
    "\n",
    "fig, axs = plt.subplots(2, 1, figsize=(8, 8))\n",
    "\n",
    "axs[0].plot(epochs, loss_history, label='Loss')\n",
    "axs[0].set_title('Training Loss')\n",
    "axs[0].set_xlabel('Epochs')\n",
    "axs[0].set_ylabel('Loss')\n",
    "\n",
    "axs[1].plot(epochs, val_accuracy_history, label='Validation Accuracy')\n",
    "axs[1].plot(epochs, train_accuracy_history, label='Training Accuracy')\n",
    "axs[1].set_title('Training Metrics')\n",
    "axs[1].set_xlabel('Epochs')\n",
    "axs[1].set_ylabel('Metrics')\n",
    "axs[1].legend()\n",
    "axs[1].set_ylim([0, 1])\n",
    "\n",
    "plt.tight_layout()\n",
    "plt.show()\n",
    "\n",
    "# *****END OF YOUR CODE*****"
   ]
  },
  {
   "cell_type": "code",
   "execution_count": null,
   "metadata": {},
   "outputs": [],
   "source": []
  },
  {
   "cell_type": "code",
   "execution_count": 279,
   "metadata": {},
   "outputs": [
    {
     "name": "stdout",
     "output_type": "stream",
     "text": [
      "Accuracy after training: 79.80%\n"
     ]
    }
   ],
   "source": [
    "# Models accuracy after training\n",
    "accuracy = evaluate(model, validation_dataloader, tag_pad_idx=pos_to_idx['<PAD>'])\n",
    "print(f'Accuracy after training: {accuracy*100:.2f}%')"
   ]
  },
  {
   "cell_type": "code",
   "execution_count": 280,
   "metadata": {},
   "outputs": [],
   "source": [
    "# Save the model\n",
    "torch.save(model.state_dict(), 'pos_tagger_model.pt')"
   ]
  },
  {
   "cell_type": "markdown",
   "metadata": {},
   "source": [
    "##### Inline question 4: What modifications you need to make to convert this model to a character-level BiLSTM POS tagger?\n",
    "<font color='red'>Your answer: 1) Instead of using word-level embedding layer, we should use character level embedding in order to generate embeddings for each character and use these generated character embeddings as  input to BiLSTM.\n",
    "2) We should modify forward() function inside the model, BiLSTMPOSTagger, and evaluate function to take character embeddings as input and compute accuracy at character level, respectively.\n",
    "3) We should modify the preprocessing step by tokenizing each character and creating a character-level vocabulary\n",
    "4) We should change input and output dimentions of the model according to character-level vocabulary\n",
    "5) We should adjust hyperparameters to obtain the most optimal performance</font>"
   ]
  },
  {
   "cell_type": "markdown",
   "metadata": {},
   "source": [
    "# Part III: Initializing BiLSTM with fastText Embeddings\n",
    "\n",
    "In Part III of this project, you will be combining the power of fastText embeddings with the sequence modeling capability of the BiLSTM model. You will load the pretrained fastText model for Turkish, which was trained by you on a large corpus of Turkish text. The pre-trained model can generate word embeddings for any Turkish word, including words that are not in the training data for our specific task. This is an effective approach to handling the out-of-vocabulary (OOV) words problem that can occur in natural language processing tasks.\n",
    "\n",
    "After initializing the models, we will train the model on our dataset and evaluate its performance on a held-out development set (same dataset as above). By combining these two powerful models, we hope to achieve better accuracy and robustness in our POS tagging task.\n",
    "\n",
    "* Optional: Try the embeddings of both skipgram and cbow approach for your evaluation"
   ]
  },
  {
   "cell_type": "code",
   "execution_count": 281,
   "metadata": {},
   "outputs": [
    {
     "data": {
      "text/plain": [
       "tensor([[ 1.4588,  0.1896,  0.1541,  ...,  0.7956,  0.3855, -0.3439],\n",
       "        [ 0.1997,  0.2807, -0.0058,  ...,  0.2573, -0.0287,  0.1034],\n",
       "        [ 1.2783,  0.8646,  0.6972,  ..., -0.8358, -0.0482,  0.6773],\n",
       "        ...,\n",
       "        [-0.0788, -0.6865, -0.9541,  ..., -1.3816, -1.4566, -0.2538],\n",
       "        [ 0.8242, -0.4210,  3.3412,  ...,  2.3557, -0.8230,  0.2771],\n",
       "        [ 0.2613, -0.0797, -0.0620,  ..., -0.1662,  0.4528, -0.1195]])"
      ]
     },
     "execution_count": 281,
     "metadata": {},
     "output_type": "execute_result"
    }
   ],
   "source": [
    "# initialize the model\n",
    "model = BiLSTMPOSTagger(\n",
    "    input_dim=len(word_to_idx),\n",
    "    embedding_dim=EMBEDDING_DIM,\n",
    "    hidden_dim=HIDDEN_DIM,\n",
    "    output_dim=len(pos_to_idx),\n",
    "    n_layers=N_LAYERS,\n",
    "    bidirectional=BIDIRECTIONAL,\n",
    "    dropout=DROPOUT,\n",
    "    pad_idx=word_to_idx['<PAD>']\n",
    ")\n",
    "\n",
    "# Load the FastText pre-trained embeddings and set them as the model's embedding layer\n",
    "pretrained_embeddings = embed_model_cbow\n",
    "embedding_matrix = np.zeros((len(word_to_idx), embed_model_cbow.get_dimension()))\n",
    "for word, i in word_to_idx.items():\n",
    "    embedding_matrix[i] = embed_model_cbow.get_word_vector(word)\n",
    "pretrained_embeddings = torch.from_numpy(embedding_matrix).float()\n",
    "model.embedding.weight.data.copy_(pretrained_embeddings)"
   ]
  },
  {
   "cell_type": "code",
   "execution_count": 282,
   "metadata": {},
   "outputs": [],
   "source": [
    "#Define hyperparameters\n",
    "\n",
    "NUM_OF_EPOCHS = 10\n",
    "LEARNING_RATE = 0.01"
   ]
  },
  {
   "cell_type": "code",
   "execution_count": 283,
   "metadata": {},
   "outputs": [],
   "source": [
    "optimizer = optim.Adam(model.parameters(), lr=LEARNING_RATE)\n",
    "\n",
    "criterion = nn.CrossEntropyLoss(ignore_index=pos_to_idx['<PAD>'])\n",
    "criterion = criterion.to(device)"
   ]
  },
  {
   "cell_type": "code",
   "execution_count": 284,
   "metadata": {},
   "outputs": [
    {
     "name": "stdout",
     "output_type": "stream",
     "text": [
      "Epoch 1/10 | Train Loss: 0.8761 | Train Accuracy: 73.56% | Val Accuracy: 82.07%\n",
      "Epoch 2/10 | Train Loss: 0.2908 | Train Accuracy: 91.69% | Val Accuracy: 78.37%\n",
      "Epoch 3/10 | Train Loss: 0.1829 | Train Accuracy: 94.60% | Val Accuracy: 77.13%\n",
      "Epoch 4/10 | Train Loss: 0.1435 | Train Accuracy: 95.68% | Val Accuracy: 79.24%\n",
      "Epoch 5/10 | Train Loss: 0.1178 | Train Accuracy: 96.33% | Val Accuracy: 79.52%\n",
      "Epoch 6/10 | Train Loss: 0.0993 | Train Accuracy: 96.79% | Val Accuracy: 79.90%\n",
      "Epoch 7/10 | Train Loss: 0.0844 | Train Accuracy: 97.30% | Val Accuracy: 78.81%\n",
      "Epoch 8/10 | Train Loss: 0.0752 | Train Accuracy: 97.59% | Val Accuracy: 80.07%\n",
      "Epoch 9/10 | Train Loss: 0.0660 | Train Accuracy: 97.87% | Val Accuracy: 77.62%\n",
      "Epoch 10/10 | Train Loss: 0.0583 | Train Accuracy: 98.08% | Val Accuracy: 78.07%\n"
     ]
    }
   ],
   "source": [
    "# Plot the loss and accuracy curves\n",
    "# *****START OF YOUR CODE*****\n",
    "\n",
    "pretrained_loss_history = []\n",
    "pretrained_val_accuracy_history = []\n",
    "pretrained_train_accuracy_history = []\n",
    "\n",
    "for x in range(NUM_OF_EPOCHS):\n",
    "   \n",
    "    train_loss, train_accuracy = train_for_single_epoch(model, training_dataloader, optimizer, criterion, device, tag_pad_idx=pos_to_idx['<PAD>'])\n",
    "    \n",
    "    val_accuracy = evaluate(model, validation_dataloader, tag_pad_idx=pos_to_idx['<PAD>'])\n",
    "    \n",
    "    # prints out the epoch number, training loss, and validation accuracy\n",
    "    print(f\"Epoch {x+1}/{NUM_OF_EPOCHS} | Train Loss: {train_loss:.4f} | Train Accuracy: {train_accuracy*100:.2f}% | Val Accuracy: {val_accuracy*100:.2f}%\")\n",
    "    \n",
    "    pretrained_loss_history.append(train_loss)\n",
    "    pretrained_train_accuracy_history.append(train_accuracy)\n",
    "    pretrained_val_accuracy_history.append(val_accuracy)\n",
    "\n",
    "\n",
    "# *****END OF YOUR CODE*****"
   ]
  },
  {
   "cell_type": "code",
   "execution_count": 285,
   "metadata": {},
   "outputs": [
    {
     "data": {
      "image/png": "[encoded data removed]",
      "text/plain": [
       "<Figure size 576x576 with 2 Axes>"
      ]
     },
     "metadata": {
      "needs_background": "light"
     },
     "output_type": "display_data"
    }
   ],
   "source": [
    "# plots the loss and accuracy curves\n",
    "fig, axs = plt.subplots(2, 1, figsize=(8, 8))\n",
    "\n",
    "axs[0].plot(epochs, pretrained_loss_history, label='Loss')\n",
    "axs[0].set_title('Training Loss')\n",
    "axs[0].set_xlabel('Epochs')\n",
    "axs[0].set_ylabel('Loss')\n",
    "\n",
    "axs[1].plot(epochs, pretrained_val_accuracy_history, label='Validation Accuracy')\n",
    "axs[1].plot(epochs, pretrained_train_accuracy_history, label='Training Accuracy')\n",
    "axs[1].set_title('Training Metrics')\n",
    "axs[1].set_xlabel('Epochs')\n",
    "axs[1].set_ylabel('Metrics')\n",
    "axs[1].legend()\n",
    "axs[1].set_ylim([0, 1])\n",
    "\n",
    "plt.tight_layout()\n",
    "plt.show()"
   ]
  },
  {
   "cell_type": "code",
   "execution_count": null,
   "metadata": {},
   "outputs": [],
   "source": []
  }
 ],
 "metadata": {
  "@webio": {
   "lastCommId": "905F15FA642C45E5AD49BD1B07803981",
   "lastKernelId": "3cb236bf-6258-421e-a93f-3bbf43d85854"
  },
  "kernelspec": {
   "display_name": "Python 3",
   "language": "python",
   "name": "python3"
  },
  "language_info": {
   "codemirror_mode": {
    "name": "ipython",
    "version": 3
   },
   "file_extension": ".py",
   "mimetype": "text/x-python",
   "name": "python",
   "nbconvert_exporter": "python",
   "pygments_lexer": "ipython3",
   "version": "3.8.1"
  },
  "pycharm": {
   "stem_cell": {
    "cell_type": "raw",
    "metadata": {
     "collapsed": false
    },
    "source": []
   }
  },
  "toc": {
   "nav_menu": {},
   "number_sections": true,
   "sideBar": true,
   "skip_h1_title": false,
   "toc_cell": false,
   "toc_position": {},
   "toc_section_display": "block",
   "toc_window_display": false
  },
  "varInspector": {
   "cols": {
    "lenName": 16,
    "lenType": 16,
    "lenVar": 40
   },
   "kernels_config": {
    "python": {
     "delete_cmd_postfix": "",
     "delete_cmd_prefix": "del ",
     "library": "var_list.py",
     "varRefreshCmd": "print(var_dic_list())"
    },
    "r": {
     "delete_cmd_postfix": ") ",
     "delete_cmd_prefix": "rm(",
     "library": "var_list.r",
     "varRefreshCmd": "cat(var_dic_list()) "
    }
   },
   "types_to_exclude": [
    "module",
    "function",
    "builtin_function_or_method",
    "instance",
    "_Feature"
   ],
   "window_display": false
  }
 },
 "nbformat": 4,
 "nbformat_minor": 4
}
